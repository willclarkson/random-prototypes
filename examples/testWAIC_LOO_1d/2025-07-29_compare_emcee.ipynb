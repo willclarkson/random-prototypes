{
 "cells": [
  {
   "cell_type": "markdown",
   "id": "7e2896ef",
   "metadata": {},
   "source": [
    "## 2025-07-29 Comparison of figures of merit for model selection in MCMC ##"
   ]
  },
  {
   "cell_type": "markdown",
   "id": "e74ca063",
   "metadata": {},
   "source": [
    "Uses the **arviz** library to compute figure of merit (WAIC and LOO) for MCMC runs (in this case produced by **emcee** and plots the run of figure of merit vs fit degree (i.e. degree of the polynomial used). Note that the generating and fit model also includes outliers - this is MCMC on a mixture model as covered in Dan Foreman-Mackey's brilliant 2014 post (see here: [10.5281/zenodo.15856](http://dx.doi.org/10.5281/zenodo.15856)).\n",
    "\n",
    "**emcee** samplers are run and dumped to pickle files in the accompanying notebook **2025-07-29_emcee_1d_mixmod_example-withloops.ipynb** - that notebook produces a run of explorations of the same dataset, e.g. in this example there would be a set of files sampler_ndata40_seed132546_outly2.0_gen2_fit?.pickle . These are read in here, imported to arviz inference objects, and the WAIC and LOO computed for each and compared.\n",
    "\n",
    "Here the filenames for the .pickle sampler files serve as metadata: in particular the number of datapoints, the degree used to generate the data, and the random number seed are read in from the filename. That filename was generated in the generating notebook so it should be easy to make more examples that stay consistent.\n"
   ]
  },
  {
   "cell_type": "code",
   "execution_count": 1,
   "id": "77733ce0",
   "metadata": {},
   "outputs": [],
   "source": [
    "import glob\n",
    "import numpy as np\n",
    "import arviz as az\n",
    "import pickle\n",
    "import matplotlib.pylab as plt"
   ]
  },
  {
   "cell_type": "code",
   "execution_count": 2,
   "id": "bfa55ad5",
   "metadata": {},
   "outputs": [],
   "source": [
    "# !ls -rtlh *pickle"
   ]
  },
  {
   "cell_type": "code",
   "execution_count": 3,
   "id": "ec5752cb",
   "metadata": {},
   "outputs": [],
   "source": [
    "# list of sampler files for this clump of simulations\n",
    "# lfiles = glob.glob('sampler_ndata40_seed132546_outly2.0_gen2_fit?.pickle')\n",
    "lfiles = glob.glob('sampler_ndata40_seed12_outly2.0_gen2_fit?.pickle')"
   ]
  },
  {
   "cell_type": "code",
   "execution_count": 4,
   "id": "a8b24b37",
   "metadata": {},
   "outputs": [
    {
     "name": "stdout",
     "output_type": "stream",
     "text": [
      "foms_ndata40_seed12_outly2.0_gen2.png gen 2, ndata 40, seed 12\n"
     ]
    }
   ],
   "source": [
    "# construct filename for plot, plot title, out of the first path name\n",
    "pathplot = 'foms_%s.png' % (lfiles[0].split('_fit')[0].split('sampler_')[-1])\n",
    "ndata = lfiles[0].split('ndata')[-1].split('_')[0]\n",
    "seed = lfiles[0].split('seed')[-1].split('_')[0]\n",
    "deggen = lfiles[0].split('gen')[-1].split('_')[0]\n",
    "plottitl = 'gen %s, ndata %s, seed %s' % (deggen, ndata, seed)\n",
    "\n",
    "print(pathplot, plottitl)"
   ]
  },
  {
   "cell_type": "code",
   "execution_count": 5,
   "id": "836216fd",
   "metadata": {},
   "outputs": [
    {
     "data": {
      "text/plain": [
       "['sampler_ndata40_seed12_outly2.0_gen2_fit6.pickle',\n",
       " 'sampler_ndata40_seed12_outly2.0_gen2_fit4.pickle',\n",
       " 'sampler_ndata40_seed12_outly2.0_gen2_fit0.pickle',\n",
       " 'sampler_ndata40_seed12_outly2.0_gen2_fit2.pickle',\n",
       " 'sampler_ndata40_seed12_outly2.0_gen2_fit5.pickle',\n",
       " 'sampler_ndata40_seed12_outly2.0_gen2_fit1.pickle',\n",
       " 'sampler_ndata40_seed12_outly2.0_gen2_fit3.pickle']"
      ]
     },
     "execution_count": 5,
     "metadata": {},
     "output_type": "execute_result"
    }
   ],
   "source": [
    "lfiles"
   ]
  },
  {
   "cell_type": "code",
   "execution_count": 6,
   "id": "04fbe265",
   "metadata": {},
   "outputs": [
    {
     "name": "stdout",
     "output_type": "stream",
     "text": [
      "[2 5 3 6 1 4 0]\n"
     ]
    }
   ],
   "source": [
    "# glob doesn't necessarily return the files in numerical order...\n",
    "degs = []\n",
    "for path in lfiles:\n",
    "    sdeg = path.split('.pickle')[0].split('fit')[-1]\n",
    "    ideg = int(sdeg)\n",
    "    degs.append(ideg)\n",
    "    \n",
    "lsor = np.argsort(degs)\n",
    "print(lsor)"
   ]
  },
  {
   "cell_type": "code",
   "execution_count": 7,
   "id": "44b6015e",
   "metadata": {},
   "outputs": [],
   "source": [
    "# put function definitions in memory so we can load them\n",
    "# Define the probabilistic model...\n",
    "# A simple prior:\n",
    "# bounds = [(0.1, 1.9), (-0.9, 0.9), (0, 1), (-2.4, 2.4), (-7.2, 5.2)]\n",
    "\n",
    "\n",
    "def lnprior(p):\n",
    "    # We'll just put reasonable uniform priors on all the parameters.\n",
    "    if not all(b[0] < v < b[1] for v, b in zip(p, bounds)):\n",
    "        return -np.inf\n",
    "    return 0\n",
    "\n",
    "\n",
    "# The \"foreground\" linear likelihood:\n",
    "def lnlike_fg(p):\n",
    "    #m, b, _, M, lnV = p\n",
    "    #model = m * x + b\n",
    "    \n",
    "    # polynomial parameters unpacked programmatically\n",
    "    M, lnV = p[-2::]\n",
    "    ppoly = p[0:-3]\n",
    "\n",
    "    model = np.polyval(ppoly,x)\n",
    "    \n",
    "    return -0.5 * (((model - y) / yerr) ** 2 + 2 * np.log(yerr))\n",
    "\n",
    "\n",
    "# The \"background\" outlier likelihood - where data itself is generated from a gaussian:\n",
    "def lnlike_bg(p):\n",
    "    #_, _, Q, M, lnV = p\n",
    "    \n",
    "    # unpack the nuisance parameters\n",
    "    Q, M, lnV = p[-3::]\n",
    "    \n",
    "    var = np.exp(lnV) + yerr**2\n",
    "    return -0.5 * ((M - y) ** 2 / var + np.log(var))\n",
    "\n",
    "def lnlike_bg_new(p):\n",
    "    #m, b, Q, M, lnV = p\n",
    "    #model = m * x + b + M\n",
    "    \n",
    "    Q, M, lnV = p[-3::]\n",
    "    \n",
    "    ppoly = p[0:-3]\n",
    "    model = np.polyval(ppoly, x)\n",
    "    \n",
    "    var = np.exp(lnV) + yerr**2\n",
    "    return -0.5 * ((model - y) ** 2 / var + np.log(var))\n",
    "\n",
    "\n",
    "\n",
    "# Full probabilistic model.\n",
    "def lnprob(p):\n",
    "    #m, b, Q, M, lnV = p\n",
    "\n",
    "    # I think we only need the Q value here, the rest of the \n",
    "    # parameters get passed straight through.\n",
    "    Q = p[-3]\n",
    "    \n",
    "    # First check the prior.\n",
    "    lp = lnprior(p)\n",
    "    if not np.isfinite(lp):\n",
    "        return -np.inf, np.zeros_like(y), np.zeros_like(y), np.repeat(-np.inf, np.size(y))\n",
    "\n",
    "    # Compute the vector of foreground likelihoods and include the q prior.\n",
    "    ll_fg = lnlike_fg(p)\n",
    "    arg1 = ll_fg + np.log(Q)\n",
    "\n",
    "    # Compute the vector of background likelihoods and include the q prior.\n",
    "    ll_bg = lnlike_bg(p)\n",
    "    arg2 = ll_bg + np.log(1.0 - Q)\n",
    "\n",
    "    # Combine these using log-add-exp for numerical stability.\n",
    "    ll = np.sum(np.logaddexp(arg1, arg2))\n",
    "\n",
    "    # We're using emcee's \"blobs\" feature in order to keep track of the\n",
    "    # foreground and background likelihoods for reasons that will become\n",
    "    # clear soon. \n",
    "    #\n",
    "    # WIC - return log_likelihood too so we can feed it to arviz?\n",
    "    return lp + ll, arg1, arg2, np.logaddexp(arg1, arg2)\n",
    "\n"
   ]
  },
  {
   "cell_type": "code",
   "execution_count": 8,
   "id": "150297fa",
   "metadata": {},
   "outputs": [],
   "source": [
    "# list of arviz objects\n",
    "idatas = []"
   ]
  },
  {
   "cell_type": "code",
   "execution_count": 9,
   "id": "742adb04",
   "metadata": {},
   "outputs": [
    {
     "name": "stdout",
     "output_type": "stream",
     "text": [
      "0 sampler_ndata40_seed12_outly2.0_gen2_fit0.pickle 2\n",
      "1 sampler_ndata40_seed12_outly2.0_gen2_fit1.pickle 5\n",
      "2 sampler_ndata40_seed12_outly2.0_gen2_fit2.pickle 3\n",
      "3 sampler_ndata40_seed12_outly2.0_gen2_fit3.pickle 6\n",
      "4 sampler_ndata40_seed12_outly2.0_gen2_fit4.pickle 1\n",
      "5 sampler_ndata40_seed12_outly2.0_gen2_fit5.pickle 4\n",
      "6 sampler_ndata40_seed12_outly2.0_gen2_fit6.pickle 0\n"
     ]
    }
   ],
   "source": [
    "# now we have the samples in increasing order of degree, read them in  that way\n",
    "for iorder in range(len(lsor)):\n",
    "    thispath = lfiles[lsor[iorder]]\n",
    "    print(iorder, thispath, lsor[iorder])\n",
    "    sampler = pickle.load(open(thispath,'rb'))\n",
    "    idatas.append(az.from_emcee(sampler, blob_names=[\"lnl\", \"lnprior\", \"lnlvec\"]))"
   ]
  },
  {
   "cell_type": "code",
   "execution_count": 10,
   "id": "37b432f5",
   "metadata": {},
   "outputs": [
    {
     "name": "stderr",
     "output_type": "stream",
     "text": [
      "/Users/wiclarks/anaconda3/lib/python3.7/site-packages/arviz/stats/stats.py:1468: UserWarning: For one or more samples the posterior variance of the log predictive densities exceeds 0.4. This could be indication of WAIC starting to fail. \n",
      "See http://arxiv.org/abs/1507.04544 for details\n",
      "  \"For one or more samples the posterior variance of the log predictive \"\n",
      "/Users/wiclarks/anaconda3/lib/python3.7/site-packages/arviz/stats/stats.py:913: RuntimeWarning: overflow encountered in exp\n",
      "  weights = 1 / np.exp(len_scale - len_scale[:, None]).sum(axis=1)\n",
      "/Users/wiclarks/anaconda3/lib/python3.7/site-packages/numpy/core/_methods.py:47: RuntimeWarning: overflow encountered in reduce\n",
      "  return umr_sum(a, axis, dtype, out, keepdims, initial, where)\n"
     ]
    },
    {
     "name": "stdout",
     "output_type": "stream",
     "text": [
      "WAIC: 0, -29.41, 5.28, LOO: -29.45 5.30\n"
     ]
    },
    {
     "name": "stderr",
     "output_type": "stream",
     "text": [
      "/Users/wiclarks/anaconda3/lib/python3.7/site-packages/arviz/stats/stats.py:1468: UserWarning: For one or more samples the posterior variance of the log predictive densities exceeds 0.4. This could be indication of WAIC starting to fail. \n",
      "See http://arxiv.org/abs/1507.04544 for details\n",
      "  \"For one or more samples the posterior variance of the log predictive \"\n",
      "/Users/wiclarks/anaconda3/lib/python3.7/site-packages/arviz/stats/stats.py:913: RuntimeWarning: overflow encountered in exp\n",
      "  weights = 1 / np.exp(len_scale - len_scale[:, None]).sum(axis=1)\n",
      "/Users/wiclarks/anaconda3/lib/python3.7/site-packages/numpy/core/_methods.py:47: RuntimeWarning: overflow encountered in reduce\n",
      "  return umr_sum(a, axis, dtype, out, keepdims, initial, where)\n"
     ]
    },
    {
     "name": "stdout",
     "output_type": "stream",
     "text": [
      "WAIC: 1, -8.74, 6.78, LOO: -8.96 6.87\n"
     ]
    },
    {
     "name": "stderr",
     "output_type": "stream",
     "text": [
      "/Users/wiclarks/anaconda3/lib/python3.7/site-packages/arviz/stats/stats.py:1468: UserWarning: For one or more samples the posterior variance of the log predictive densities exceeds 0.4. This could be indication of WAIC starting to fail. \n",
      "See http://arxiv.org/abs/1507.04544 for details\n",
      "  \"For one or more samples the posterior variance of the log predictive \"\n",
      "/Users/wiclarks/anaconda3/lib/python3.7/site-packages/arviz/stats/stats.py:913: RuntimeWarning: overflow encountered in exp\n",
      "  weights = 1 / np.exp(len_scale - len_scale[:, None]).sum(axis=1)\n",
      "/Users/wiclarks/anaconda3/lib/python3.7/site-packages/numpy/core/_methods.py:47: RuntimeWarning: overflow encountered in reduce\n",
      "  return umr_sum(a, axis, dtype, out, keepdims, initial, where)\n"
     ]
    },
    {
     "name": "stdout",
     "output_type": "stream",
     "text": [
      "WAIC: 2, 16.89, 8.96, LOO: 16.79 8.99\n"
     ]
    },
    {
     "name": "stderr",
     "output_type": "stream",
     "text": [
      "/Users/wiclarks/anaconda3/lib/python3.7/site-packages/arviz/stats/stats.py:1468: UserWarning: For one or more samples the posterior variance of the log predictive densities exceeds 0.4. This could be indication of WAIC starting to fail. \n",
      "See http://arxiv.org/abs/1507.04544 for details\n",
      "  \"For one or more samples the posterior variance of the log predictive \"\n",
      "/Users/wiclarks/anaconda3/lib/python3.7/site-packages/arviz/stats/stats.py:913: RuntimeWarning: overflow encountered in exp\n",
      "  weights = 1 / np.exp(len_scale - len_scale[:, None]).sum(axis=1)\n",
      "/Users/wiclarks/anaconda3/lib/python3.7/site-packages/numpy/core/_methods.py:47: RuntimeWarning: overflow encountered in reduce\n",
      "  return umr_sum(a, axis, dtype, out, keepdims, initial, where)\n",
      "/Users/wiclarks/anaconda3/lib/python3.7/site-packages/arviz/stats/stats.py:693: UserWarning: Estimated shape parameter of Pareto distribution is greater than 0.7 for one or more samples. You should consider using a more robust model, this is because importance sampling is less likely to work well if the marginal posterior and LOO posterior are very different. This is more likely to happen with a non-robust model and highly influential observations.\n",
      "  \"Estimated shape parameter of Pareto distribution is greater than 0.7 for \"\n",
      "/Users/wiclarks/anaconda3/lib/python3.7/site-packages/arviz/stats/stats.py:1468: UserWarning: For one or more samples the posterior variance of the log predictive densities exceeds 0.4. This could be indication of WAIC starting to fail. \n",
      "See http://arxiv.org/abs/1507.04544 for details\n",
      "  \"For one or more samples the posterior variance of the log predictive \"\n"
     ]
    },
    {
     "name": "stdout",
     "output_type": "stream",
     "text": [
      "WAIC: 3, 8.15, 8.16, LOO: 6.21 8.28\n"
     ]
    },
    {
     "name": "stderr",
     "output_type": "stream",
     "text": [
      "/Users/wiclarks/anaconda3/lib/python3.7/site-packages/arviz/stats/stats.py:913: RuntimeWarning: overflow encountered in exp\n",
      "  weights = 1 / np.exp(len_scale - len_scale[:, None]).sum(axis=1)\n",
      "/Users/wiclarks/anaconda3/lib/python3.7/site-packages/numpy/core/_methods.py:47: RuntimeWarning: overflow encountered in reduce\n",
      "  return umr_sum(a, axis, dtype, out, keepdims, initial, where)\n",
      "/Users/wiclarks/anaconda3/lib/python3.7/site-packages/arviz/stats/stats.py:693: UserWarning: Estimated shape parameter of Pareto distribution is greater than 0.7 for one or more samples. You should consider using a more robust model, this is because importance sampling is less likely to work well if the marginal posterior and LOO posterior are very different. This is more likely to happen with a non-robust model and highly influential observations.\n",
      "  \"Estimated shape parameter of Pareto distribution is greater than 0.7 for \"\n",
      "/Users/wiclarks/anaconda3/lib/python3.7/site-packages/arviz/stats/stats.py:1468: UserWarning: For one or more samples the posterior variance of the log predictive densities exceeds 0.4. This could be indication of WAIC starting to fail. \n",
      "See http://arxiv.org/abs/1507.04544 for details\n",
      "  \"For one or more samples the posterior variance of the log predictive \"\n"
     ]
    },
    {
     "name": "stdout",
     "output_type": "stream",
     "text": [
      "WAIC: 4, 9.22, 8.33, LOO: 8.40 8.42\n"
     ]
    },
    {
     "name": "stderr",
     "output_type": "stream",
     "text": [
      "/Users/wiclarks/anaconda3/lib/python3.7/site-packages/arviz/stats/stats.py:913: RuntimeWarning: overflow encountered in exp\n",
      "  weights = 1 / np.exp(len_scale - len_scale[:, None]).sum(axis=1)\n",
      "/Users/wiclarks/anaconda3/lib/python3.7/site-packages/numpy/core/_methods.py:47: RuntimeWarning: overflow encountered in reduce\n",
      "  return umr_sum(a, axis, dtype, out, keepdims, initial, where)\n",
      "/Users/wiclarks/anaconda3/lib/python3.7/site-packages/arviz/stats/stats.py:693: UserWarning: Estimated shape parameter of Pareto distribution is greater than 0.7 for one or more samples. You should consider using a more robust model, this is because importance sampling is less likely to work well if the marginal posterior and LOO posterior are very different. This is more likely to happen with a non-robust model and highly influential observations.\n",
      "  \"Estimated shape parameter of Pareto distribution is greater than 0.7 for \"\n",
      "/Users/wiclarks/anaconda3/lib/python3.7/site-packages/arviz/stats/stats.py:1468: UserWarning: For one or more samples the posterior variance of the log predictive densities exceeds 0.4. This could be indication of WAIC starting to fail. \n",
      "See http://arxiv.org/abs/1507.04544 for details\n",
      "  \"For one or more samples the posterior variance of the log predictive \"\n"
     ]
    },
    {
     "name": "stdout",
     "output_type": "stream",
     "text": [
      "WAIC: 5, 15.09, 8.85, LOO: 14.21 8.92\n"
     ]
    },
    {
     "name": "stderr",
     "output_type": "stream",
     "text": [
      "/Users/wiclarks/anaconda3/lib/python3.7/site-packages/arviz/stats/stats.py:913: RuntimeWarning: overflow encountered in exp\n",
      "  weights = 1 / np.exp(len_scale - len_scale[:, None]).sum(axis=1)\n",
      "/Users/wiclarks/anaconda3/lib/python3.7/site-packages/numpy/core/_methods.py:47: RuntimeWarning: overflow encountered in reduce\n",
      "  return umr_sum(a, axis, dtype, out, keepdims, initial, where)\n"
     ]
    },
    {
     "name": "stdout",
     "output_type": "stream",
     "text": [
      "WAIC: 6, 14.69, 8.79, LOO: 13.97 8.83\n"
     ]
    },
    {
     "name": "stderr",
     "output_type": "stream",
     "text": [
      "/Users/wiclarks/anaconda3/lib/python3.7/site-packages/arviz/stats/stats.py:693: UserWarning: Estimated shape parameter of Pareto distribution is greater than 0.7 for one or more samples. You should consider using a more robust model, this is because importance sampling is less likely to work well if the marginal posterior and LOO posterior are very different. This is more likely to happen with a non-robust model and highly influential observations.\n",
      "  \"Estimated shape parameter of Pareto distribution is greater than 0.7 for \"\n"
     ]
    }
   ],
   "source": [
    "# try interrogating this\n",
    "\n",
    "# waic and loo variables\n",
    "waics = np.zeros(len(idatas))\n",
    "loos = np.copy(waics)\n",
    "\n",
    "for iorder in range(len(idatas)):\n",
    "    thiswaic = az.waic(idatas[iorder], var_name=\"lnlvec\")\n",
    "    thisloo = az.loo(idatas[iorder], var_name=\"lnlvec\")\n",
    "    \n",
    "    waics[iorder] = thiswaic.waic\n",
    "    loos[iorder] = thisloo.loo\n",
    "    \n",
    "    print(\"WAIC: %i, %.2f, %.2f, LOO: %.2f %.2f\" % \\\n",
    "          (iorder, thiswaic.waic, thiswaic.waic_se, thisloo.loo, thisloo.loo_se))"
   ]
  },
  {
   "cell_type": "code",
   "execution_count": 11,
   "id": "b1e9bc9d",
   "metadata": {},
   "outputs": [
    {
     "data": {
      "image/png": "[encoded data removed]",
      "text/plain": [
       "<Figure size 432x288 with 1 Axes>"
      ]
     },
     "metadata": {
      "needs_background": "light"
     },
     "output_type": "display_data"
    }
   ],
   "source": [
    "# let's take a look\n",
    "fig1 = plt.figure(1)\n",
    "ax1 = fig1.add_subplot(111)\n",
    "ax1.plot(waics, label='waic', marker='o')\n",
    "ax1.plot(loos, label='loo', marker='s')\n",
    "ax1.legend()\n",
    "ax1.set_xlabel('fit order')\n",
    "ax1.set_ylabel('figure of merit')\n",
    "ax1.set_title(plottitl)\n",
    "fig1.savefig(pathplot)\n",
    "# ax1.set_ylim(bottom=10)"
   ]
  },
  {
   "cell_type": "code",
   "execution_count": null,
   "id": "1baa53e8",
   "metadata": {},
   "outputs": [],
   "source": []
  }
 ],
 "metadata": {
  "kernelspec": {
   "display_name": "Python 3",
   "language": "python",
   "name": "python3"
  },
  "language_info": {
   "codemirror_mode": {
    "name": "ipython",
    "version": 3
   },
   "file_extension": ".py",
   "mimetype": "text/x-python",
   "name": "python",
   "nbconvert_exporter": "python",
   "pygments_lexer": "ipython3",
   "version": "3.7.11"
  }
 },
 "nbformat": 4,
 "nbformat_minor": 5
}
